{
 "cells": [
  {
   "cell_type": "code",
   "execution_count": 1,
   "id": "d7009700-4976-463b-9795-3d3d78af8499",
   "metadata": {},
   "outputs": [],
   "source": [
    "import pandas as pd\n",
    "import numpy as np\n",
    "import matplotlib.pyplot as plt \n",
    "%matplotlib inline\n",
    "import seaborn as sns\n",
    "import warnings\n",
    "warnings.filterwarnings(\"ignore\")"
   ]
  },
  {
   "cell_type": "code",
   "execution_count": 2,
   "id": "da8fb91c-7370-4069-be36-968c15c0e13e",
   "metadata": {},
   "outputs": [],
   "source": [
    "df=pd.read_csv(\"hypothyroid.csv\")"
   ]
  },
  {
   "cell_type": "code",
   "execution_count": 3,
   "id": "c7aef232-bb07-431e-b2c7-2b28786d4e3f",
   "metadata": {},
   "outputs": [
    {
     "name": "stdout",
     "output_type": "stream",
     "text": [
      "<class 'pandas.core.frame.DataFrame'>\n",
      "RangeIndex: 3772 entries, 0 to 3771\n",
      "Data columns (total 30 columns):\n",
      " #   Column                     Non-Null Count  Dtype \n",
      "---  ------                     --------------  ----- \n",
      " 0   age                        3772 non-null   object\n",
      " 1   sex                        3772 non-null   object\n",
      " 2   on thyroxine               3772 non-null   object\n",
      " 3   query on thyroxine         3772 non-null   object\n",
      " 4   on antithyroid medication  3772 non-null   object\n",
      " 5   sick                       3772 non-null   object\n",
      " 6   pregnant                   3772 non-null   object\n",
      " 7   thyroid surgery            3772 non-null   object\n",
      " 8   I131 treatment             3772 non-null   object\n",
      " 9   query hypothyroid          3772 non-null   object\n",
      " 10  query hyperthyroid         3772 non-null   object\n",
      " 11  lithium                    3772 non-null   object\n",
      " 12  goitre                     3772 non-null   object\n",
      " 13  tumor                      3772 non-null   object\n",
      " 14  hypopituitary              3772 non-null   object\n",
      " 15  psych                      3772 non-null   object\n",
      " 16  TSH measured               3772 non-null   object\n",
      " 17  TSH                        3772 non-null   object\n",
      " 18  T3 measured                3772 non-null   object\n",
      " 19  T3                         3772 non-null   object\n",
      " 20  TT4 measured               3772 non-null   object\n",
      " 21  TT4                        3772 non-null   object\n",
      " 22  T4U measured               3772 non-null   object\n",
      " 23  T4U                        3772 non-null   object\n",
      " 24  FTI measured               3772 non-null   object\n",
      " 25  FTI                        3772 non-null   object\n",
      " 26  TBG measured               3772 non-null   object\n",
      " 27  TBG                        3772 non-null   object\n",
      " 28  referral source            3772 non-null   object\n",
      " 29  binaryClass                3772 non-null   object\n",
      "dtypes: object(30)\n",
      "memory usage: 884.2+ KB\n"
     ]
    }
   ],
   "source": [
    "df.info()"
   ]
  },
  {
   "cell_type": "markdown",
   "id": "6c317dc3-d741-424e-b14c-b3a1d8a368be",
   "metadata": {},
   "source": [
    "# here we can see all the columns are of object type\n",
    "## so we need to convert them to int and float types\n"
   ]
  },
  {
   "cell_type": "code",
   "execution_count": 4,
   "id": "03e828fe-997e-4d5e-a137-e5b446062118",
   "metadata": {},
   "outputs": [
    {
     "data": {
      "text/html": [
       "<div>\n",
       "<style scoped>\n",
       "    .dataframe tbody tr th:only-of-type {\n",
       "        vertical-align: middle;\n",
       "    }\n",
       "\n",
       "    .dataframe tbody tr th {\n",
       "        vertical-align: top;\n",
       "    }\n",
       "\n",
       "    .dataframe thead th {\n",
       "        text-align: right;\n",
       "    }\n",
       "</style>\n",
       "<table border=\"1\" class=\"dataframe\">\n",
       "  <thead>\n",
       "    <tr style=\"text-align: right;\">\n",
       "      <th></th>\n",
       "      <th>age</th>\n",
       "      <th>sex</th>\n",
       "      <th>on thyroxine</th>\n",
       "      <th>query on thyroxine</th>\n",
       "      <th>on antithyroid medication</th>\n",
       "      <th>sick</th>\n",
       "      <th>pregnant</th>\n",
       "      <th>thyroid surgery</th>\n",
       "      <th>I131 treatment</th>\n",
       "      <th>query hypothyroid</th>\n",
       "      <th>...</th>\n",
       "      <th>TT4 measured</th>\n",
       "      <th>TT4</th>\n",
       "      <th>T4U measured</th>\n",
       "      <th>T4U</th>\n",
       "      <th>FTI measured</th>\n",
       "      <th>FTI</th>\n",
       "      <th>TBG measured</th>\n",
       "      <th>TBG</th>\n",
       "      <th>referral source</th>\n",
       "      <th>binaryClass</th>\n",
       "    </tr>\n",
       "  </thead>\n",
       "  <tbody>\n",
       "    <tr>\n",
       "      <th>0</th>\n",
       "      <td>41</td>\n",
       "      <td>F</td>\n",
       "      <td>f</td>\n",
       "      <td>f</td>\n",
       "      <td>f</td>\n",
       "      <td>f</td>\n",
       "      <td>f</td>\n",
       "      <td>f</td>\n",
       "      <td>f</td>\n",
       "      <td>f</td>\n",
       "      <td>...</td>\n",
       "      <td>t</td>\n",
       "      <td>125</td>\n",
       "      <td>t</td>\n",
       "      <td>1.14</td>\n",
       "      <td>t</td>\n",
       "      <td>109</td>\n",
       "      <td>f</td>\n",
       "      <td>?</td>\n",
       "      <td>SVHC</td>\n",
       "      <td>P</td>\n",
       "    </tr>\n",
       "    <tr>\n",
       "      <th>1</th>\n",
       "      <td>23</td>\n",
       "      <td>F</td>\n",
       "      <td>f</td>\n",
       "      <td>f</td>\n",
       "      <td>f</td>\n",
       "      <td>f</td>\n",
       "      <td>f</td>\n",
       "      <td>f</td>\n",
       "      <td>f</td>\n",
       "      <td>f</td>\n",
       "      <td>...</td>\n",
       "      <td>t</td>\n",
       "      <td>102</td>\n",
       "      <td>f</td>\n",
       "      <td>?</td>\n",
       "      <td>f</td>\n",
       "      <td>?</td>\n",
       "      <td>f</td>\n",
       "      <td>?</td>\n",
       "      <td>other</td>\n",
       "      <td>P</td>\n",
       "    </tr>\n",
       "    <tr>\n",
       "      <th>2</th>\n",
       "      <td>46</td>\n",
       "      <td>M</td>\n",
       "      <td>f</td>\n",
       "      <td>f</td>\n",
       "      <td>f</td>\n",
       "      <td>f</td>\n",
       "      <td>f</td>\n",
       "      <td>f</td>\n",
       "      <td>f</td>\n",
       "      <td>f</td>\n",
       "      <td>...</td>\n",
       "      <td>t</td>\n",
       "      <td>109</td>\n",
       "      <td>t</td>\n",
       "      <td>0.91</td>\n",
       "      <td>t</td>\n",
       "      <td>120</td>\n",
       "      <td>f</td>\n",
       "      <td>?</td>\n",
       "      <td>other</td>\n",
       "      <td>P</td>\n",
       "    </tr>\n",
       "    <tr>\n",
       "      <th>3</th>\n",
       "      <td>70</td>\n",
       "      <td>F</td>\n",
       "      <td>t</td>\n",
       "      <td>f</td>\n",
       "      <td>f</td>\n",
       "      <td>f</td>\n",
       "      <td>f</td>\n",
       "      <td>f</td>\n",
       "      <td>f</td>\n",
       "      <td>f</td>\n",
       "      <td>...</td>\n",
       "      <td>t</td>\n",
       "      <td>175</td>\n",
       "      <td>f</td>\n",
       "      <td>?</td>\n",
       "      <td>f</td>\n",
       "      <td>?</td>\n",
       "      <td>f</td>\n",
       "      <td>?</td>\n",
       "      <td>other</td>\n",
       "      <td>P</td>\n",
       "    </tr>\n",
       "    <tr>\n",
       "      <th>4</th>\n",
       "      <td>70</td>\n",
       "      <td>F</td>\n",
       "      <td>f</td>\n",
       "      <td>f</td>\n",
       "      <td>f</td>\n",
       "      <td>f</td>\n",
       "      <td>f</td>\n",
       "      <td>f</td>\n",
       "      <td>f</td>\n",
       "      <td>f</td>\n",
       "      <td>...</td>\n",
       "      <td>t</td>\n",
       "      <td>61</td>\n",
       "      <td>t</td>\n",
       "      <td>0.87</td>\n",
       "      <td>t</td>\n",
       "      <td>70</td>\n",
       "      <td>f</td>\n",
       "      <td>?</td>\n",
       "      <td>SVI</td>\n",
       "      <td>P</td>\n",
       "    </tr>\n",
       "  </tbody>\n",
       "</table>\n",
       "<p>5 rows × 30 columns</p>\n",
       "</div>"
      ],
      "text/plain": [
       "  age sex on thyroxine query on thyroxine on antithyroid medication sick  \\\n",
       "0  41   F            f                  f                         f    f   \n",
       "1  23   F            f                  f                         f    f   \n",
       "2  46   M            f                  f                         f    f   \n",
       "3  70   F            t                  f                         f    f   \n",
       "4  70   F            f                  f                         f    f   \n",
       "\n",
       "  pregnant thyroid surgery I131 treatment query hypothyroid  ... TT4 measured  \\\n",
       "0        f               f              f                 f  ...            t   \n",
       "1        f               f              f                 f  ...            t   \n",
       "2        f               f              f                 f  ...            t   \n",
       "3        f               f              f                 f  ...            t   \n",
       "4        f               f              f                 f  ...            t   \n",
       "\n",
       "   TT4 T4U measured   T4U FTI measured  FTI TBG measured TBG referral source  \\\n",
       "0  125            t  1.14            t  109            f   ?            SVHC   \n",
       "1  102            f     ?            f    ?            f   ?           other   \n",
       "2  109            t  0.91            t  120            f   ?           other   \n",
       "3  175            f     ?            f    ?            f   ?           other   \n",
       "4   61            t  0.87            t   70            f   ?             SVI   \n",
       "\n",
       "  binaryClass  \n",
       "0           P  \n",
       "1           P  \n",
       "2           P  \n",
       "3           P  \n",
       "4           P  \n",
       "\n",
       "[5 rows x 30 columns]"
      ]
     },
     "execution_count": 4,
     "metadata": {},
     "output_type": "execute_result"
    }
   ],
   "source": [
    "df.head()"
   ]
  },
  {
   "cell_type": "markdown",
   "id": "4361fee6-6caa-400c-a43a-228eca26ba78",
   "metadata": {},
   "source": [
    "# by observing the cells we can see that unknown values are marked with \" ? \" , so we need to replace it with nan values\n"
   ]
  },
  {
   "cell_type": "code",
   "execution_count": 5,
   "id": "7d29114d-3762-49e2-ab90-f902fb6508d3",
   "metadata": {},
   "outputs": [],
   "source": [
    "df=df.replace(\"?\",np.nan)"
   ]
  },
  {
   "cell_type": "code",
   "execution_count": 6,
   "id": "83a499e4-956e-42ec-ba91-8a291b2ffd37",
   "metadata": {},
   "outputs": [
    {
     "data": {
      "text/plain": [
       "age                             1\n",
       "sex                           150\n",
       "on thyroxine                    0\n",
       "query on thyroxine              0\n",
       "on antithyroid medication       0\n",
       "sick                            0\n",
       "pregnant                        0\n",
       "thyroid surgery                 0\n",
       "I131 treatment                  0\n",
       "query hypothyroid               0\n",
       "query hyperthyroid              0\n",
       "lithium                         0\n",
       "goitre                          0\n",
       "tumor                           0\n",
       "hypopituitary                   0\n",
       "psych                           0\n",
       "TSH measured                    0\n",
       "TSH                           369\n",
       "T3 measured                     0\n",
       "T3                            769\n",
       "TT4 measured                    0\n",
       "TT4                           231\n",
       "T4U measured                    0\n",
       "T4U                           387\n",
       "FTI measured                    0\n",
       "FTI                           385\n",
       "TBG measured                    0\n",
       "TBG                          3772\n",
       "referral source                 0\n",
       "binaryClass                     0\n",
       "dtype: int64"
      ]
     },
     "execution_count": 6,
     "metadata": {},
     "output_type": "execute_result"
    }
   ],
   "source": [
    "df.isnull().sum() # checking null values"
   ]
  },
  {
   "cell_type": "code",
   "execution_count": 7,
   "id": "9c43fe40-204d-41a1-b340-526e78c0f3cc",
   "metadata": {},
   "outputs": [
    {
     "data": {
      "text/plain": [
       "61"
      ]
     },
     "execution_count": 7,
     "metadata": {},
     "output_type": "execute_result"
    }
   ],
   "source": [
    "df.duplicated().sum()"
   ]
  },
  {
   "cell_type": "markdown",
   "id": "2a641486-26e1-43a2-b9ea-9638facefc4d",
   "metadata": {},
   "source": [
    "# here we can see that many duplicates and null values exist in data set so we need to clean them"
   ]
  },
  {
   "cell_type": "code",
   "execution_count": 8,
   "id": "edde62da-f134-4737-8720-3838a38992b1",
   "metadata": {},
   "outputs": [],
   "source": [
    "df=df.drop_duplicates()"
   ]
  },
  {
   "cell_type": "code",
   "execution_count": 9,
   "id": "92bef261-2d08-46db-9338-c969c8a591dc",
   "metadata": {},
   "outputs": [
    {
     "data": {
      "text/html": [
       "<div>\n",
       "<style scoped>\n",
       "    .dataframe tbody tr th:only-of-type {\n",
       "        vertical-align: middle;\n",
       "    }\n",
       "\n",
       "    .dataframe tbody tr th {\n",
       "        vertical-align: top;\n",
       "    }\n",
       "\n",
       "    .dataframe thead th {\n",
       "        text-align: right;\n",
       "    }\n",
       "</style>\n",
       "<table border=\"1\" class=\"dataframe\">\n",
       "  <thead>\n",
       "    <tr style=\"text-align: right;\">\n",
       "      <th></th>\n",
       "      <th>age</th>\n",
       "      <th>sex</th>\n",
       "      <th>on thyroxine</th>\n",
       "      <th>query on thyroxine</th>\n",
       "      <th>on antithyroid medication</th>\n",
       "      <th>sick</th>\n",
       "      <th>pregnant</th>\n",
       "      <th>thyroid surgery</th>\n",
       "      <th>I131 treatment</th>\n",
       "      <th>query hypothyroid</th>\n",
       "      <th>...</th>\n",
       "      <th>TT4 measured</th>\n",
       "      <th>TT4</th>\n",
       "      <th>T4U measured</th>\n",
       "      <th>T4U</th>\n",
       "      <th>FTI measured</th>\n",
       "      <th>FTI</th>\n",
       "      <th>TBG measured</th>\n",
       "      <th>TBG</th>\n",
       "      <th>referral source</th>\n",
       "      <th>binaryClass</th>\n",
       "    </tr>\n",
       "  </thead>\n",
       "  <tbody>\n",
       "    <tr>\n",
       "      <th>1985</th>\n",
       "      <td>NaN</td>\n",
       "      <td>F</td>\n",
       "      <td>t</td>\n",
       "      <td>f</td>\n",
       "      <td>f</td>\n",
       "      <td>f</td>\n",
       "      <td>f</td>\n",
       "      <td>f</td>\n",
       "      <td>t</td>\n",
       "      <td>f</td>\n",
       "      <td>...</td>\n",
       "      <td>t</td>\n",
       "      <td>120</td>\n",
       "      <td>t</td>\n",
       "      <td>0.82</td>\n",
       "      <td>t</td>\n",
       "      <td>146</td>\n",
       "      <td>f</td>\n",
       "      <td>NaN</td>\n",
       "      <td>other</td>\n",
       "      <td>P</td>\n",
       "    </tr>\n",
       "  </tbody>\n",
       "</table>\n",
       "<p>1 rows × 30 columns</p>\n",
       "</div>"
      ],
      "text/plain": [
       "      age sex on thyroxine query on thyroxine on antithyroid medication sick  \\\n",
       "1985  NaN   F            t                  f                         f    f   \n",
       "\n",
       "     pregnant thyroid surgery I131 treatment query hypothyroid  ...  \\\n",
       "1985        f               f              t                 f  ...   \n",
       "\n",
       "     TT4 measured  TT4 T4U measured   T4U FTI measured  FTI TBG measured TBG  \\\n",
       "1985            t  120            t  0.82            t  146            f NaN   \n",
       "\n",
       "     referral source binaryClass  \n",
       "1985           other           P  \n",
       "\n",
       "[1 rows x 30 columns]"
      ]
     },
     "execution_count": 9,
     "metadata": {},
     "output_type": "execute_result"
    }
   ],
   "source": [
    "df[df[\"age\"].isnull()] "
   ]
  },
  {
   "cell_type": "markdown",
   "id": "6cbc34b2-b113-4a0e-a916-c2542dc1e554",
   "metadata": {},
   "source": [
    "# as there is only one nan value in age we can drop it"
   ]
  },
  {
   "cell_type": "code",
   "execution_count": 10,
   "id": "ece64e8d-c168-4d6f-9eb3-7be8518867a3",
   "metadata": {},
   "outputs": [],
   "source": [
    "df.drop(index=[1985],inplace=True)"
   ]
  },
  {
   "cell_type": "markdown",
   "id": "0025eda2-6b8a-4117-b4b0-8244ebe17869",
   "metadata": {},
   "source": [
    "# age is a number ,but the data type is object so converting it to int\n",
    "## [ 'TSH', 'T3',  'TT4', 'T4U', 'FTI',  'TBG'] are of decimal type so converting them to float"
   ]
  },
  {
   "cell_type": "code",
   "execution_count": 11,
   "id": "465b6da6-51b0-41f8-a296-e23b8e9db073",
   "metadata": {},
   "outputs": [],
   "source": [
    "df[\"age\"]=df[\"age\"].astype(int)\n",
    "for i in [ 'TSH', 'T3',  'TT4', 'T4U', 'FTI',  'TBG']:\n",
    "    df[i]=df[i].astype(float)"
   ]
  },
  {
   "cell_type": "code",
   "execution_count": 12,
   "id": "1664b4f2-9c40-4f01-b873-9fa3dcb59a66",
   "metadata": {},
   "outputs": [
    {
     "data": {
      "text/plain": [
       "age                             0\n",
       "sex                           149\n",
       "on thyroxine                    0\n",
       "query on thyroxine              0\n",
       "on antithyroid medication       0\n",
       "sick                            0\n",
       "pregnant                        0\n",
       "thyroid surgery                 0\n",
       "I131 treatment                  0\n",
       "query hypothyroid               0\n",
       "query hyperthyroid              0\n",
       "lithium                         0\n",
       "goitre                          0\n",
       "tumor                           0\n",
       "hypopituitary                   0\n",
       "psych                           0\n",
       "TSH measured                    0\n",
       "TSH                           309\n",
       "T3 measured                     0\n",
       "T3                            709\n",
       "TT4 measured                    0\n",
       "TT4                           171\n",
       "T4U measured                    0\n",
       "T4U                           327\n",
       "FTI measured                    0\n",
       "FTI                           325\n",
       "TBG measured                    0\n",
       "TBG                          3710\n",
       "referral source                 0\n",
       "binaryClass                     0\n",
       "dtype: int64"
      ]
     },
     "execution_count": 12,
     "metadata": {},
     "output_type": "execute_result"
    }
   ],
   "source": [
    "df.isnull().sum()"
   ]
  },
  {
   "cell_type": "markdown",
   "id": "13170720-f7b6-4806-bbf2-a507afcae915",
   "metadata": {},
   "source": [
    "### As TBG has all the values as none we can drop it\n",
    "### We are imputing the numeric columns with mean and sex with mode"
   ]
  },
  {
   "cell_type": "code",
   "execution_count": 13,
   "id": "ce10235d-404b-4aa7-abd1-720ae8b7a1f1",
   "metadata": {},
   "outputs": [],
   "source": [
    "df[\"sex\"]=df[\"sex\"].fillna(df[\"sex\"].mode().str[0][0])\n",
    "for i in ['TSH', 'T3',  'TT4', 'T4U', 'FTI']:\n",
    "    df[i]=df[i].fillna(df[i].mean())"
   ]
  },
  {
   "cell_type": "code",
   "execution_count": 14,
   "id": "a475a076-f020-4dbb-9cf4-7d5e44ac391f",
   "metadata": {},
   "outputs": [],
   "source": [
    "df.drop(\"TBG\",axis=1,inplace=True)\n"
   ]
  },
  {
   "cell_type": "code",
   "execution_count": 15,
   "id": "876b7cce-9006-40d4-bed7-e2f04b826c6e",
   "metadata": {},
   "outputs": [
    {
     "data": {
      "text/plain": [
       "age                          0\n",
       "sex                          0\n",
       "on thyroxine                 0\n",
       "query on thyroxine           0\n",
       "on antithyroid medication    0\n",
       "sick                         0\n",
       "pregnant                     0\n",
       "thyroid surgery              0\n",
       "I131 treatment               0\n",
       "query hypothyroid            0\n",
       "query hyperthyroid           0\n",
       "lithium                      0\n",
       "goitre                       0\n",
       "tumor                        0\n",
       "hypopituitary                0\n",
       "psych                        0\n",
       "TSH measured                 0\n",
       "TSH                          0\n",
       "T3 measured                  0\n",
       "T3                           0\n",
       "TT4 measured                 0\n",
       "TT4                          0\n",
       "T4U measured                 0\n",
       "T4U                          0\n",
       "FTI measured                 0\n",
       "FTI                          0\n",
       "TBG measured                 0\n",
       "referral source              0\n",
       "binaryClass                  0\n",
       "dtype: int64"
      ]
     },
     "execution_count": 15,
     "metadata": {},
     "output_type": "execute_result"
    }
   ],
   "source": [
    "df.isnull().sum()"
   ]
  },
  {
   "cell_type": "raw",
   "id": "24ebd386-89f7-4428-a791-105736c166e2",
   "metadata": {},
   "source": [
    "we have completed cleaning of data"
   ]
  },
  {
   "cell_type": "markdown",
   "id": "d388b918-8933-440b-aab6-f341420447fd",
   "metadata": {},
   "source": [
    "# EDA"
   ]
  },
  {
   "cell_type": "code",
   "execution_count": 16,
   "id": "e1549d21-12a3-46a7-bd47-0774b538c2ea",
   "metadata": {},
   "outputs": [
    {
     "data": {
      "text/plain": [
       "<AxesSubplot: >"
      ]
     },
     "execution_count": 16,
     "metadata": {},
     "output_type": "execute_result"
    },
    {
     "data": {
      "image/png": "[encoded data removed]",
      "text/plain": [
       "<Figure size 640x480 with 2 Axes>"
      ]
     },
     "metadata": {},
     "output_type": "display_data"
    }
   ],
   "source": [
    "sns.heatmap(df.corr(),annot=True)"
   ]
  },
  {
   "cell_type": "markdown",
   "id": "2e7b37e1-6e91-4bf7-b8b8-66a5aee97774",
   "metadata": {},
   "source": [
    "### Here we can see that \" TT4 \" and \" FTI \" are highly corelated ,so we can drop one of them because of multicolinearity\n"
   ]
  },
  {
   "cell_type": "code",
   "execution_count": 17,
   "id": "ba55c04d-7be7-4798-b4f3-3534a53e341b",
   "metadata": {},
   "outputs": [
    {
     "data": {
      "text/plain": [
       "array([[<AxesSubplot: title={'center': 'age'}>,\n",
       "        <AxesSubplot: title={'center': 'TSH'}>],\n",
       "       [<AxesSubplot: title={'center': 'T3'}>,\n",
       "        <AxesSubplot: title={'center': 'TT4'}>],\n",
       "       [<AxesSubplot: title={'center': 'T4U'}>,\n",
       "        <AxesSubplot: title={'center': 'FTI'}>]], dtype=object)"
      ]
     },
     "execution_count": 17,
     "metadata": {},
     "output_type": "execute_result"
    },
    {
     "data": {
      "image/png": "[encoded data removed]",
      "text/plain": [
       "<Figure size 2000x2000 with 6 Axes>"
      ]
     },
     "metadata": {},
     "output_type": "display_data"
    }
   ],
   "source": [
    "df.hist(figsize=(20,20))"
   ]
  },
  {
   "cell_type": "markdown",
   "id": "ee3df3d1-1814-4b8a-80a9-af38f4bda8f6",
   "metadata": {},
   "source": [
    "## by the above histograms we can see that the data is distributed normally "
   ]
  },
  {
   "cell_type": "markdown",
   "id": "86d0eae2-0c54-42d5-ba89-a6f426adfe7c",
   "metadata": {},
   "source": [
    "# Data Preprocessing"
   ]
  },
  {
   "cell_type": "code",
   "execution_count": 18,
   "id": "687e8486-a0ad-4e98-80a9-4f0af632d5a6",
   "metadata": {},
   "outputs": [
    {
     "name": "stdout",
     "output_type": "stream",
     "text": [
      "<class 'pandas.core.frame.DataFrame'>\n",
      "Int64Index: 3710 entries, 0 to 3771\n",
      "Data columns (total 29 columns):\n",
      " #   Column                     Non-Null Count  Dtype  \n",
      "---  ------                     --------------  -----  \n",
      " 0   age                        3710 non-null   int64  \n",
      " 1   sex                        3710 non-null   object \n",
      " 2   on thyroxine               3710 non-null   object \n",
      " 3   query on thyroxine         3710 non-null   object \n",
      " 4   on antithyroid medication  3710 non-null   object \n",
      " 5   sick                       3710 non-null   object \n",
      " 6   pregnant                   3710 non-null   object \n",
      " 7   thyroid surgery            3710 non-null   object \n",
      " 8   I131 treatment             3710 non-null   object \n",
      " 9   query hypothyroid          3710 non-null   object \n",
      " 10  query hyperthyroid         3710 non-null   object \n",
      " 11  lithium                    3710 non-null   object \n",
      " 12  goitre                     3710 non-null   object \n",
      " 13  tumor                      3710 non-null   object \n",
      " 14  hypopituitary              3710 non-null   object \n",
      " 15  psych                      3710 non-null   object \n",
      " 16  TSH measured               3710 non-null   object \n",
      " 17  TSH                        3710 non-null   float64\n",
      " 18  T3 measured                3710 non-null   object \n",
      " 19  T3                         3710 non-null   float64\n",
      " 20  TT4 measured               3710 non-null   object \n",
      " 21  TT4                        3710 non-null   float64\n",
      " 22  T4U measured               3710 non-null   object \n",
      " 23  T4U                        3710 non-null   float64\n",
      " 24  FTI measured               3710 non-null   object \n",
      " 25  FTI                        3710 non-null   float64\n",
      " 26  TBG measured               3710 non-null   object \n",
      " 27  referral source            3710 non-null   object \n",
      " 28  binaryClass                3710 non-null   object \n",
      "dtypes: float64(5), int64(1), object(23)\n",
      "memory usage: 869.5+ KB\n"
     ]
    }
   ],
   "source": [
    "df.info()"
   ]
  },
  {
   "cell_type": "markdown",
   "id": "a6e4e043-124d-4814-866d-34693a39d67e",
   "metadata": {},
   "source": [
    "## we need to encode all the columns \n",
    "## and we can drop some unnessary columns"
   ]
  },
  {
   "cell_type": "code",
   "execution_count": 19,
   "id": "13faafee-a71f-492b-8a0b-3061bac7928c",
   "metadata": {},
   "outputs": [
    {
     "data": {
      "text/plain": [
       "Index(['age', 'sex', 'on thyroxine', 'query on thyroxine',\n",
       "       'on antithyroid medication', 'sick', 'pregnant', 'thyroid surgery',\n",
       "       'I131 treatment', 'query hypothyroid', 'query hyperthyroid', 'lithium',\n",
       "       'goitre', 'tumor', 'hypopituitary', 'psych', 'TSH measured', 'TSH',\n",
       "       'T3 measured', 'T3', 'TT4 measured', 'TT4', 'T4U measured', 'T4U',\n",
       "       'FTI measured', 'FTI', 'TBG measured', 'referral source',\n",
       "       'binaryClass'],\n",
       "      dtype='object')"
      ]
     },
     "execution_count": 19,
     "metadata": {},
     "output_type": "execute_result"
    }
   ],
   "source": [
    "df.columns"
   ]
  },
  {
   "cell_type": "code",
   "execution_count": 20,
   "id": "da07c913-3fcf-4c86-884d-f94e0d375014",
   "metadata": {},
   "outputs": [],
   "source": [
    "df.drop(['TSH measured',\n",
    "       'T3 measured',  'TT4 measured',  'T4U measured',\n",
    "       'FTI measured', 'FTI', 'TBG measured', 'referral source'],axis=1,inplace=True)"
   ]
  },
  {
   "cell_type": "code",
   "execution_count": 21,
   "id": "d885b139-bd58-48d9-b6e4-bbc53d5f429b",
   "metadata": {},
   "outputs": [
    {
     "name": "stdout",
     "output_type": "stream",
     "text": [
      "<class 'pandas.core.frame.DataFrame'>\n",
      "Int64Index: 3710 entries, 0 to 3771\n",
      "Data columns (total 21 columns):\n",
      " #   Column                     Non-Null Count  Dtype  \n",
      "---  ------                     --------------  -----  \n",
      " 0   age                        3710 non-null   int64  \n",
      " 1   sex                        3710 non-null   object \n",
      " 2   on thyroxine               3710 non-null   object \n",
      " 3   query on thyroxine         3710 non-null   object \n",
      " 4   on antithyroid medication  3710 non-null   object \n",
      " 5   sick                       3710 non-null   object \n",
      " 6   pregnant                   3710 non-null   object \n",
      " 7   thyroid surgery            3710 non-null   object \n",
      " 8   I131 treatment             3710 non-null   object \n",
      " 9   query hypothyroid          3710 non-null   object \n",
      " 10  query hyperthyroid         3710 non-null   object \n",
      " 11  lithium                    3710 non-null   object \n",
      " 12  goitre                     3710 non-null   object \n",
      " 13  tumor                      3710 non-null   object \n",
      " 14  hypopituitary              3710 non-null   object \n",
      " 15  psych                      3710 non-null   object \n",
      " 16  TSH                        3710 non-null   float64\n",
      " 17  T3                         3710 non-null   float64\n",
      " 18  TT4                        3710 non-null   float64\n",
      " 19  T4U                        3710 non-null   float64\n",
      " 20  binaryClass                3710 non-null   object \n",
      "dtypes: float64(4), int64(1), object(16)\n",
      "memory usage: 637.7+ KB\n"
     ]
    }
   ],
   "source": [
    "df.info()"
   ]
  },
  {
   "cell_type": "code",
   "execution_count": 22,
   "id": "3a62a634-d231-494e-a013-23faff1af407",
   "metadata": {},
   "outputs": [],
   "source": [
    "from sklearn.preprocessing import LabelEncoder\n",
    "le=LabelEncoder()\n",
    "for i in df.columns:\n",
    "    if df[i].dtype==\"O\":\n",
    "        df[i]=le.fit_transform(df[i])"
   ]
  },
  {
   "cell_type": "code",
   "execution_count": 23,
   "id": "ec377b95-e3bc-48f0-aba5-97e232806c70",
   "metadata": {},
   "outputs": [
    {
     "data": {
      "text/plain": [
       "<AxesSubplot: >"
      ]
     },
     "execution_count": 23,
     "metadata": {},
     "output_type": "execute_result"
    },
    {
     "data": {
      "image/png": "[encoded data removed]",
      "text/plain": [
       "<Figure size 640x480 with 1 Axes>"
      ]
     },
     "metadata": {},
     "output_type": "display_data"
    }
   ],
   "source": [
    "sns.boxplot(df)"
   ]
  },
  {
   "cell_type": "code",
   "execution_count": 24,
   "id": "3f295f67-bdb7-463d-8575-4c0fb8ec99fe",
   "metadata": {},
   "outputs": [],
   "source": [
    "#we can see there is a outlier in age ,so we need to remove it"
   ]
  },
  {
   "cell_type": "code",
   "execution_count": 25,
   "id": "7b8eb392-1856-4a1b-a260-e8d93d5ffab4",
   "metadata": {},
   "outputs": [
    {
     "data": {
      "text/html": [
       "<div>\n",
       "<style scoped>\n",
       "    .dataframe tbody tr th:only-of-type {\n",
       "        vertical-align: middle;\n",
       "    }\n",
       "\n",
       "    .dataframe tbody tr th {\n",
       "        vertical-align: top;\n",
       "    }\n",
       "\n",
       "    .dataframe thead th {\n",
       "        text-align: right;\n",
       "    }\n",
       "</style>\n",
       "<table border=\"1\" class=\"dataframe\">\n",
       "  <thead>\n",
       "    <tr style=\"text-align: right;\">\n",
       "      <th></th>\n",
       "      <th>age</th>\n",
       "      <th>sex</th>\n",
       "      <th>on thyroxine</th>\n",
       "      <th>query on thyroxine</th>\n",
       "      <th>on antithyroid medication</th>\n",
       "      <th>sick</th>\n",
       "      <th>pregnant</th>\n",
       "      <th>thyroid surgery</th>\n",
       "      <th>I131 treatment</th>\n",
       "      <th>query hypothyroid</th>\n",
       "      <th>...</th>\n",
       "      <th>lithium</th>\n",
       "      <th>goitre</th>\n",
       "      <th>tumor</th>\n",
       "      <th>hypopituitary</th>\n",
       "      <th>psych</th>\n",
       "      <th>TSH</th>\n",
       "      <th>T3</th>\n",
       "      <th>TT4</th>\n",
       "      <th>T4U</th>\n",
       "      <th>binaryClass</th>\n",
       "    </tr>\n",
       "  </thead>\n",
       "  <tbody>\n",
       "    <tr>\n",
       "      <th>1364</th>\n",
       "      <td>455</td>\n",
       "      <td>0</td>\n",
       "      <td>0</td>\n",
       "      <td>0</td>\n",
       "      <td>0</td>\n",
       "      <td>0</td>\n",
       "      <td>0</td>\n",
       "      <td>0</td>\n",
       "      <td>0</td>\n",
       "      <td>0</td>\n",
       "      <td>...</td>\n",
       "      <td>0</td>\n",
       "      <td>0</td>\n",
       "      <td>0</td>\n",
       "      <td>0</td>\n",
       "      <td>0</td>\n",
       "      <td>1.1</td>\n",
       "      <td>2.0</td>\n",
       "      <td>118.0</td>\n",
       "      <td>1.13</td>\n",
       "      <td>1</td>\n",
       "    </tr>\n",
       "  </tbody>\n",
       "</table>\n",
       "<p>1 rows × 21 columns</p>\n",
       "</div>"
      ],
      "text/plain": [
       "      age  sex  on thyroxine  query on thyroxine  on antithyroid medication  \\\n",
       "1364  455    0             0                   0                          0   \n",
       "\n",
       "      sick  pregnant  thyroid surgery  I131 treatment  query hypothyroid  ...  \\\n",
       "1364     0         0                0               0                  0  ...   \n",
       "\n",
       "      lithium  goitre  tumor  hypopituitary  psych  TSH   T3    TT4   T4U  \\\n",
       "1364        0       0      0              0      0  1.1  2.0  118.0  1.13   \n",
       "\n",
       "      binaryClass  \n",
       "1364            1  \n",
       "\n",
       "[1 rows x 21 columns]"
      ]
     },
     "execution_count": 25,
     "metadata": {},
     "output_type": "execute_result"
    }
   ],
   "source": [
    "df[df[\"age\"]>=100]"
   ]
  },
  {
   "cell_type": "code",
   "execution_count": 26,
   "id": "bada59a9-8f87-4179-98e9-fb0dac42f448",
   "metadata": {},
   "outputs": [],
   "source": [
    "df=df.drop(index=[1364])"
   ]
  },
  {
   "cell_type": "markdown",
   "id": "a249f8c9-8fce-4d2d-b989-e75441e4c4e7",
   "metadata": {},
   "source": [
    "# Data splitting"
   ]
  },
  {
   "cell_type": "code",
   "execution_count": 27,
   "id": "0d3db375-0f62-45a0-9f3f-2c78ee2b6fbd",
   "metadata": {},
   "outputs": [],
   "source": [
    "X=df.drop(\"binaryClass\",axis=1)\n",
    "y=df[\"binaryClass\"]"
   ]
  },
  {
   "cell_type": "code",
   "execution_count": 28,
   "id": "b7b9208b-b9f1-4830-b09e-e5cafb1a7f82",
   "metadata": {},
   "outputs": [],
   "source": [
    "from sklearn.model_selection import train_test_split\n",
    "X_train,X_test,y_train,y_test=train_test_split(X,y,test_size=0.25,random_state=29)"
   ]
  },
  {
   "cell_type": "code",
   "execution_count": 29,
   "id": "4e35378e-eb21-4c23-9558-ac40e8529143",
   "metadata": {},
   "outputs": [
    {
     "data": {
      "text/plain": [
       "((2781, 20), (928, 20), (2781,), (928,))"
      ]
     },
     "execution_count": 29,
     "metadata": {},
     "output_type": "execute_result"
    }
   ],
   "source": [
    "X_train.shape,X_test.shape,y_train.shape,y_test.shape"
   ]
  },
  {
   "cell_type": "markdown",
   "id": "2c7ef469-7198-4f5d-bf9f-0cd32a4ffead",
   "metadata": {},
   "source": [
    "##### we have divided the data into training data and testing data with 3:1 ratio"
   ]
  },
  {
   "cell_type": "markdown",
   "id": "059348d7-921b-4156-a40b-e9ecb65fd2d3",
   "metadata": {},
   "source": [
    "# Model Selection"
   ]
  },
  {
   "cell_type": "code",
   "execution_count": 30,
   "id": "5e34394a-4117-4118-bfbe-fc66650af6a0",
   "metadata": {},
   "outputs": [],
   "source": [
    "# from the boxplot above we can see the data is verymuch distributed so we need to scale all the features"
   ]
  },
  {
   "cell_type": "code",
   "execution_count": 31,
   "id": "8dd2ab7b-65bf-4f92-9b8f-8e7373330263",
   "metadata": {},
   "outputs": [],
   "source": [
    "from sklearn.preprocessing import StandardScaler\n",
    "sc=StandardScaler()\n",
    "X_train_scaled=sc.fit_transform(X_train)\n",
    "X_test=sc.transform(X_test)\n",
    "X_train=X_train_scaled\n"
   ]
  },
  {
   "cell_type": "code",
   "execution_count": 32,
   "id": "36e5d7d9-7f7f-4a81-a950-e4c7bc72ff54",
   "metadata": {},
   "outputs": [
    {
     "name": "stdout",
     "output_type": "stream",
     "text": [
      "0.9504310344827587\n",
      "[[ 26  46]\n",
      " [  0 856]]\n",
      "              precision    recall  f1-score   support\n",
      "\n",
      "           0       1.00      0.36      0.53        72\n",
      "           1       0.95      1.00      0.97       856\n",
      "\n",
      "    accuracy                           0.95       928\n",
      "   macro avg       0.97      0.68      0.75       928\n",
      "weighted avg       0.95      0.95      0.94       928\n",
      "\n"
     ]
    }
   ],
   "source": [
    "from sklearn.svm import SVC\n",
    "svmc=SVC()\n",
    "svmc.fit(X_train,y_train)\n",
    "y_pred=svmc.predict(X_test)\n",
    "from sklearn.metrics import accuracy_score,classification_report,confusion_matrix\n",
    "print(accuracy_score(y_test,y_pred))\n",
    "print(confusion_matrix(y_test,y_pred))\n",
    "print(classification_report(y_test,y_pred))"
   ]
  },
  {
   "cell_type": "code",
   "execution_count": 33,
   "id": "4838009b-75aa-46ed-8dc8-ead6870e4730",
   "metadata": {},
   "outputs": [
    {
     "name": "stdout",
     "output_type": "stream",
     "text": [
      "0.9935344827586207\n",
      "[[ 72   0]\n",
      " [  6 850]]\n",
      "              precision    recall  f1-score   support\n",
      "\n",
      "           0       0.92      1.00      0.96        72\n",
      "           1       1.00      0.99      1.00       856\n",
      "\n",
      "    accuracy                           0.99       928\n",
      "   macro avg       0.96      1.00      0.98       928\n",
      "weighted avg       0.99      0.99      0.99       928\n",
      "\n"
     ]
    }
   ],
   "source": [
    "from sklearn.tree import DecisionTreeClassifier\n",
    "tr=DecisionTreeClassifier()\n",
    "tr.fit(X_train,y_train)\n",
    "y_pred=tr.predict(X_test)\n",
    "from sklearn.metrics import accuracy_score,classification_report,confusion_matrix\n",
    "print(accuracy_score(y_test,y_pred))\n",
    "print(confusion_matrix(y_test,y_pred))\n",
    "print(classification_report(y_test,y_pred))\n"
   ]
  },
  {
   "cell_type": "code",
   "execution_count": 34,
   "id": "7328b3da-a89e-44e8-9a4f-5f410c3bae1a",
   "metadata": {},
   "outputs": [
    {
     "name": "stdout",
     "output_type": "stream",
     "text": [
      "0.125\n",
      "[[ 70   2]\n",
      " [810  46]]\n",
      "              precision    recall  f1-score   support\n",
      "\n",
      "           0       0.08      0.97      0.15        72\n",
      "           1       0.96      0.05      0.10       856\n",
      "\n",
      "    accuracy                           0.12       928\n",
      "   macro avg       0.52      0.51      0.12       928\n",
      "weighted avg       0.89      0.12      0.11       928\n",
      "\n"
     ]
    }
   ],
   "source": [
    "from sklearn.naive_bayes import GaussianNB\n",
    "gnb=GaussianNB()\n",
    "gnb.fit(X_train,y_train)\n",
    "y_pred=gnb.predict(X_test)\n",
    "from sklearn.metrics import accuracy_score,classification_report,confusion_matrix\n",
    "print(accuracy_score(y_test,y_pred))\n",
    "print(confusion_matrix(y_test,y_pred))\n",
    "print(classification_report(y_test,y_pred))"
   ]
  },
  {
   "cell_type": "code",
   "execution_count": 35,
   "id": "02ad03ba-5c58-468e-8259-a0c440085aea",
   "metadata": {},
   "outputs": [
    {
     "name": "stdout",
     "output_type": "stream",
     "text": [
      "0.9709051724137931\n",
      "[[ 67   5]\n",
      " [ 22 834]]\n",
      "              precision    recall  f1-score   support\n",
      "\n",
      "           0       0.75      0.93      0.83        72\n",
      "           1       0.99      0.97      0.98       856\n",
      "\n",
      "    accuracy                           0.97       928\n",
      "   macro avg       0.87      0.95      0.91       928\n",
      "weighted avg       0.98      0.97      0.97       928\n",
      "\n"
     ]
    }
   ],
   "source": [
    "from sklearn.naive_bayes import BernoulliNB\n",
    "gnb=BernoulliNB()\n",
    "gnb.fit(X_train,y_train)\n",
    "y_pred=gnb.predict(X_test)\n",
    "from sklearn.metrics import accuracy_score,classification_report,confusion_matrix\n",
    "print(accuracy_score(y_test,y_pred))\n",
    "print(confusion_matrix(y_test,y_pred))\n",
    "print(classification_report(y_test,y_pred))"
   ]
  },
  {
   "cell_type": "code",
   "execution_count": 36,
   "id": "6910d623-39c0-4df1-a815-ae7d46ad9ff9",
   "metadata": {},
   "outputs": [
    {
     "name": "stdout",
     "output_type": "stream",
     "text": [
      "0.9579741379310345\n",
      "[[ 35  37]\n",
      " [  2 854]]\n",
      "              precision    recall  f1-score   support\n",
      "\n",
      "           0       0.95      0.49      0.64        72\n",
      "           1       0.96      1.00      0.98       856\n",
      "\n",
      "    accuracy                           0.96       928\n",
      "   macro avg       0.95      0.74      0.81       928\n",
      "weighted avg       0.96      0.96      0.95       928\n",
      "\n"
     ]
    }
   ],
   "source": [
    "from sklearn.linear_model import LogisticRegression\n",
    "lg=LogisticRegression()\n",
    "lg.fit(X_train,y_train)\n",
    "y_pred=lg.predict(X_test)\n",
    "from sklearn.metrics import accuracy_score,classification_report,confusion_matrix\n",
    "print(accuracy_score(y_test,y_pred))\n",
    "print(confusion_matrix(y_test,y_pred))\n",
    "print(classification_report(y_test,y_pred))"
   ]
  },
  {
   "cell_type": "code",
   "execution_count": 37,
   "id": "0965dfef-cd32-44de-8c56-388cf8224478",
   "metadata": {},
   "outputs": [
    {
     "name": "stdout",
     "output_type": "stream",
     "text": [
      "0.9892241379310345\n",
      "[[ 65   7]\n",
      " [  3 853]]\n",
      "              precision    recall  f1-score   support\n",
      "\n",
      "           0       0.96      0.90      0.93        72\n",
      "           1       0.99      1.00      0.99       856\n",
      "\n",
      "    accuracy                           0.99       928\n",
      "   macro avg       0.97      0.95      0.96       928\n",
      "weighted avg       0.99      0.99      0.99       928\n",
      "\n"
     ]
    }
   ],
   "source": [
    "from sklearn.neural_network import MLPClassifier\n",
    "ml=MLPClassifier()\n",
    "ml.fit(X_train,y_train)\n",
    "y_pred=ml.predict(X_test)\n",
    "from sklearn.metrics import accuracy_score,classification_report,confusion_matrix\n",
    "print(accuracy_score(y_test,y_pred))\n",
    "print(confusion_matrix(y_test,y_pred))\n",
    "print(classification_report(y_test,y_pred))"
   ]
  },
  {
   "cell_type": "code",
   "execution_count": 38,
   "id": "91126f7c-998d-4589-8cb2-82d747b3d72e",
   "metadata": {},
   "outputs": [
    {
     "name": "stdout",
     "output_type": "stream",
     "text": [
      "0.9967672413793104\n",
      "[[ 72   0]\n",
      " [  3 853]]\n",
      "              precision    recall  f1-score   support\n",
      "\n",
      "           0       0.96      1.00      0.98        72\n",
      "           1       1.00      1.00      1.00       856\n",
      "\n",
      "    accuracy                           1.00       928\n",
      "   macro avg       0.98      1.00      0.99       928\n",
      "weighted avg       1.00      1.00      1.00       928\n",
      "\n"
     ]
    }
   ],
   "source": [
    "from sklearn.ensemble import RandomForestClassifier\n",
    "rfc=RandomForestClassifier()\n",
    "rfc.fit(X_train,y_train)\n",
    "y_pred=rfc.predict(X_test)\n",
    "from sklearn.metrics import accuracy_score,classification_report,confusion_matrix\n",
    "print(accuracy_score(y_test,y_pred))\n",
    "print(confusion_matrix(y_test,y_pred))\n",
    "print(classification_report(y_test,y_pred))"
   ]
  },
  {
   "cell_type": "code",
   "execution_count": 39,
   "id": "b4c1d21a-c548-44a1-8426-d7eec1bac637",
   "metadata": {},
   "outputs": [],
   "source": [
    "import pickle \n",
    "pickle.dump(tr,open(\"id3_classifier.pkl\",\"wb\"))"
   ]
  },
  {
   "cell_type": "code",
   "execution_count": 40,
   "id": "ec422588-a44c-4f26-813f-c953c2d543a5",
   "metadata": {},
   "outputs": [],
   "source": [
    "pickle.dump(rfc,open(\"randomf_classifier.pkl\",\"wb\"))"
   ]
  },
  {
   "cell_type": "code",
   "execution_count": 41,
   "id": "a8d2d624-fdb5-41bf-a720-c4392d055ec0",
   "metadata": {},
   "outputs": [],
   "source": [
    "pickle.dump(sc,open(\"scaler.pkl\",\"wb\"))"
   ]
  },
  {
   "cell_type": "code",
   "execution_count": 42,
   "id": "6b2214fb-2cdc-405d-9393-d0bdf91701fa",
   "metadata": {},
   "outputs": [
    {
     "name": "stdout",
     "output_type": "stream",
     "text": [
      "0.947198275862069\n",
      "[[ 23  49]\n",
      " [  0 856]]\n",
      "              precision    recall  f1-score   support\n",
      "\n",
      "           0       1.00      0.32      0.48        72\n",
      "           1       0.95      1.00      0.97       856\n",
      "\n",
      "    accuracy                           0.95       928\n",
      "   macro avg       0.97      0.66      0.73       928\n",
      "weighted avg       0.95      0.95      0.93       928\n",
      "\n"
     ]
    }
   ],
   "source": [
    "from sklearn.neighbors import KNeighborsClassifier\n",
    "knn=KNeighborsClassifier()\n",
    "knn.fit(X_train,y_train)\n",
    "y_pred=knn.predict(X_test)\n",
    "from sklearn.metrics import accuracy_score,classification_report,confusion_matrix\n",
    "print(accuracy_score(y_test,y_pred))\n",
    "print(confusion_matrix(y_test,y_pred))\n",
    "print(classification_report(y_test,y_pred))"
   ]
  },
  {
   "cell_type": "code",
   "execution_count": null,
   "id": "47de6983-37df-4b17-b593-6afb4ecb86b7",
   "metadata": {},
   "outputs": [],
   "source": []
  }
 ],
 "metadata": {
  "kernelspec": {
   "display_name": "Python 3 (ipykernel)",
   "language": "python",
   "name": "python3"
  },
  "language_info": {
   "codemirror_mode": {
    "name": "ipython",
    "version": 3
   },
   "file_extension": ".py",
   "mimetype": "text/x-python",
   "name": "python",
   "nbconvert_exporter": "python",
   "pygments_lexer": "ipython3",
   "version": "3.10.8"
  }
 },
 "nbformat": 4,
 "nbformat_minor": 5
}
